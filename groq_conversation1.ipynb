{
  "nbformat": 4,
  "nbformat_minor": 0,
  "metadata": {
    "colab": {
      "provenance": []
    },
    "kernelspec": {
      "name": "python3",
      "display_name": "Python 3"
    },
    "language_info": {
      "name": "python"
    }
  },
  "cells": [
    {
      "cell_type": "code",
      "execution_count": 1,
      "metadata": {
        "colab": {
          "base_uri": "https://localhost:8080/"
        },
        "id": "KT41ItfPwuYo",
        "outputId": "a00b58a1-d5f4-4798-fcf8-c21c7f75eb37"
      },
      "outputs": [
        {
          "output_type": "stream",
          "name": "stdout",
          "text": [
            "Found existing installation: openai 1.106.1\n",
            "Uninstalling openai-1.106.1:\n",
            "  Successfully uninstalled openai-1.106.1\n",
            "\u001b[2K   \u001b[90m━━━━━━━━━━━━━━━━━━━━━━━━━━━━━━━━━━━━━━━━\u001b[0m \u001b[32m76.5/76.5 kB\u001b[0m \u001b[31m2.2 MB/s\u001b[0m eta \u001b[36m0:00:00\u001b[0m\n",
            "\u001b[?25h"
          ]
        }
      ],
      "source": [
        "!pip uninstall -y openai\n",
        "!pip install --quiet openai==0.28.0\n"
      ]
    },
    {
      "cell_type": "code",
      "source": [
        "import openai\n",
        "import getpass\n",
        "\n",
        "api_key = getpass.getpass(\"Enter your GROQ API Key: \")\n",
        "openai.api_key = api_key\n",
        "openai.api_base = \"https://api.groq.com/openai/v1\"\n"
      ],
      "metadata": {
        "colab": {
          "base_uri": "https://localhost:8080/"
        },
        "id": "BBHdGAIUw2bW",
        "outputId": "8fa5a4bf-7c09-4aaf-8a5b-836293434619"
      },
      "execution_count": 29,
      "outputs": [
        {
          "name": "stdout",
          "output_type": "stream",
          "text": [
            "Enter your GROQ API Key: ··········\n"
          ]
        }
      ]
    },
    {
      "cell_type": "code",
      "source": [
        "class ConversationManager:\n",
        "    def __init__(self, max_turns=5, max_chars=1000, summarize_every=3, model=\"llama-3-8b-8192\"):\n",
        "        self.history = []\n",
        "        self.max_turns = max_turns\n",
        "        self.max_chars = max_chars\n",
        "        self.summarize_every = summarize_every\n",
        "        self.run_count = 0\n",
        "        self.model = model\n",
        "\n",
        "    def add_message(self, role, content):\n",
        "        self.history.append({\"role\": role, \"content\": content})\n",
        "        self.run_count += 1\n",
        "        print(f\"Added message ({role}): {content}\")\n",
        "\n",
        "        # Summarize after every k-th run\n",
        "        if self.run_count % self.summarize_every == 0:\n",
        "            self.summarize_history()\n",
        "        self.truncate_history()\n",
        "\n",
        "    def truncate_history(self):\n",
        "        # By number of turns\n",
        "        if len(self.history) > self.max_turns:\n",
        "            self.history = self.history[-self.max_turns:]\n",
        "        # By total character length\n",
        "        total_chars = sum(len(msg[\"content\"]) for msg in self.history)\n",
        "        while total_chars > self.max_chars and len(self.history) > 1:\n",
        "            self.history.pop(0)\n",
        "            total_chars = sum(len(msg[\"content\"]) for msg in self.history)\n",
        "\n",
        "    def summarize_history(self):\n",
        "        all_text = \"\\n\".join(f'{msg[\"role\"]}: {msg[\"content\"]}' for msg in self.history)\n",
        "        print(\"\\nSummarizing history...\")\n",
        "        summary = self.get_summary(all_text)\n",
        "        self.history = [{\"role\": \"system\", \"content\": f\"Summary so far: {summary}\"}]\n",
        "        print(f\"Summary stored: {summary}\")\n",
        "\n",
        "    def get_summary(self, text):\n",
        "        response = openai.ChatCompletion.create(\n",
        "            model=self.model,\n",
        "            messages=[\n",
        "                {\"role\": \"system\", \"content\": \"Summarize the following conversation in 2-3 sentences.\"},\n",
        "                {\"role\": \"user\", \"content\": text}\n",
        "            ],\n",
        "            max_tokens=150,\n",
        "            temperature=0.3\n",
        "        )\n",
        "        return response.choices[0].message.content.strip()\n",
        "\n",
        "    def show_history(self):\n",
        "        print(\"\\nCurrent Conversation History:\")\n",
        "        for i, msg in enumerate(self.history):\n",
        "            print(f\"{i+1}. {msg['role']}: {msg['content']}\")\n"
      ],
      "metadata": {
        "id": "HRXB34-uxpaT"
      },
      "execution_count": 30,
      "outputs": []
    },
    {
      "cell_type": "code",
      "source": [
        "# Demo messages for testing\n",
        "samples = [\n",
        "    (\"user\", \"Hi, I need help booking a flight to Delhi.\"),\n",
        "    (\"assistant\", \"Sure! What date are you planning to travel?\"),\n",
        "    (\"user\", \"I'm looking at the 25th of September.\"),\n",
        "    (\"assistant\", \"Do you prefer morning or evening flights?\"),\n",
        "    (\"user\", \"Morning would be better.\"),\n",
        "    (\"assistant\", \"Great! I'll check available morning flights for 25th September to Delhi.\"),\n",
        "    (\"user\", \"Please check if there are any discounts available.\"),\n",
        "]\n",
        "\n",
        "manager = ConversationManager(\n",
        "    max_turns=5,\n",
        "    max_chars=1000,\n",
        "    summarize_every=3,\n",
        "    model=\"llama-3.1-8b-instant\"\n",
        ")\n",
        "\n",
        "for role, content in samples:\n",
        "    manager.add_message(role, content)\n",
        "    manager.show_history()\n",
        "    print(\"-\" * 40)\n"
      ],
      "metadata": {
        "colab": {
          "base_uri": "https://localhost:8080/"
        },
        "id": "Ch1BPmPyxwbQ",
        "outputId": "1b3295d5-4a0c-4e9b-c9ad-5a3967a50c52"
      },
      "execution_count": 31,
      "outputs": [
        {
          "output_type": "stream",
          "name": "stdout",
          "text": [
            "Added message (user): Hi, I need help booking a flight to Delhi.\n",
            "\n",
            "Current Conversation History:\n",
            "1. user: Hi, I need help booking a flight to Delhi.\n",
            "----------------------------------------\n",
            "Added message (assistant): Sure! What date are you planning to travel?\n",
            "\n",
            "Current Conversation History:\n",
            "1. user: Hi, I need help booking a flight to Delhi.\n",
            "2. assistant: Sure! What date are you planning to travel?\n",
            "----------------------------------------\n",
            "Added message (user): I'm looking at the 25th of September.\n",
            "\n",
            "Summarizing history...\n",
            "Summary stored: There is no information provided about the conversation after the user's date of travel.\n",
            "\n",
            "Current Conversation History:\n",
            "1. system: Summary so far: There is no information provided about the conversation after the user's date of travel.\n",
            "----------------------------------------\n",
            "Added message (assistant): Do you prefer morning or evening flights?\n",
            "\n",
            "Current Conversation History:\n",
            "1. system: Summary so far: There is no information provided about the conversation after the user's date of travel.\n",
            "2. assistant: Do you prefer morning or evening flights?\n",
            "----------------------------------------\n",
            "Added message (user): Morning would be better.\n",
            "\n",
            "Current Conversation History:\n",
            "1. system: Summary so far: There is no information provided about the conversation after the user's date of travel.\n",
            "2. assistant: Do you prefer morning or evening flights?\n",
            "3. user: Morning would be better.\n",
            "----------------------------------------\n",
            "Added message (assistant): Great! I'll check available morning flights for 25th September to Delhi.\n",
            "\n",
            "Summarizing history...\n",
            "Summary stored: There is no conversation to summarize. The conversation started with the assistant asking about the user's flight preference and the user choosing morning flights.\n",
            "\n",
            "Current Conversation History:\n",
            "1. system: Summary so far: There is no conversation to summarize. The conversation started with the assistant asking about the user's flight preference and the user choosing morning flights.\n",
            "----------------------------------------\n",
            "Added message (user): Please check if there are any discounts available.\n",
            "\n",
            "Current Conversation History:\n",
            "1. system: Summary so far: There is no conversation to summarize. The conversation started with the assistant asking about the user's flight preference and the user choosing morning flights.\n",
            "2. user: Please check if there are any discounts available.\n",
            "----------------------------------------\n"
          ]
        }
      ]
    },
    {
      "cell_type": "markdown",
      "source": [
        "# Task 2"
      ],
      "metadata": {
        "id": "yMwtn9WX4cTG"
      }
    },
    {
      "cell_type": "code",
      "source": [
        "extraction_schema = {\n",
        "    \"name\": \"extract_user_details\",\n",
        "    \"description\": \"Extract user details like name, email, phone, location, age from a chat.\",\n",
        "    \"parameters\": {\n",
        "        \"type\": \"object\",\n",
        "        \"properties\": {\n",
        "            \"name\": {\n",
        "                \"type\": \"string\",\n",
        "                \"description\": \"Full name of the user\"\n",
        "            },\n",
        "            \"email\": {\n",
        "                \"type\": \"string\",\n",
        "                \"description\": \"User's email address\",\n",
        "                \"pattern\": \"^[\\\\w\\\\.-]+@[\\\\w\\\\.-]+\\\\.\\\\w+$\"\n",
        "            },\n",
        "            \"phone\": {\n",
        "                \"type\": \"string\",\n",
        "                \"description\": \"User's phone number\",\n",
        "                \"pattern\": \"^\\\\+?[0-9\\\\-\\\\s]{7,15}$\"\n",
        "            },\n",
        "            \"location\": {\n",
        "                \"type\": \"string\",\n",
        "                \"description\": \"User's location\"\n",
        "            },\n",
        "            \"age\": {\n",
        "                \"type\": \"integer\",\n",
        "                \"description\": \"User's age\"\n",
        "            }\n",
        "        },\n",
        "        \"required\": [\"name\", \"email\", \"phone\", \"location\", \"age\"]\n",
        "    }\n",
        "}\n"
      ],
      "metadata": {
        "id": "SHcGDmt-4tKl"
      },
      "execution_count": 32,
      "outputs": []
    },
    {
      "cell_type": "code",
      "source": [
        "import openai\n",
        "import getpass\n",
        "\n",
        "api_key = getpass.getpass(\"Enter your GROQ API Key: \")\n",
        "\n",
        "openai.api_key = api_key\n",
        "openai.api_base = \"https://api.groq.com/openai/v1\"\n"
      ],
      "metadata": {
        "colab": {
          "base_uri": "https://localhost:8080/"
        },
        "id": "J2K-I2Mh4x6X",
        "outputId": "39d98cdb-17a6-47d7-8d2e-982383c07c84"
      },
      "execution_count": 33,
      "outputs": [
        {
          "name": "stdout",
          "output_type": "stream",
          "text": [
            "Enter your GROQ API Key: ··········\n"
          ]
        }
      ]
    },
    {
      "cell_type": "code",
      "source": [
        "import re\n",
        "\n",
        "def mask_sensitive(text):\n",
        "    text = re.sub(r'\\b[A-Za-z0-9._%+-]+@[A-Za-z0-9.-]+\\.[A-Za-z]{2,}\\b', '[EMAIL]', text)\n",
        "    text = re.sub(r'\\b\\d{10}\\b|\\+\\d{1,3}-\\d{3,4}-\\d{4}|\\d{3,4}-\\d{4}', '[PHONE]', text)\n",
        "    text = re.sub(r'((my name is|name is|this is|I am)\\s+)([A-Z][a-z]+(\\s+[A-Z][a-z]+)?)', r'\\1[NAME]', text)\n",
        "    text = re.sub(r'^(Hi, my name is|Hello, this is)\\s+[A-Z][a-z]+(\\s+[A-Z][a-z]+)?', r'\\1 [NAME]', text)\n",
        "    text = re.sub(r'(in|from|location:)\\s+([A-Z][a-z]+(?:\\s+[A-Z][a-z]+)*)', r'\\1 [LOCATION]', text)\n",
        "    return text\n",
        "\n",
        "sample_chats = [\n",
        "    \"Hi, my name is Alice Johnson. You can email me at alice.johnson@example.com or call me at +1-555-1234. I live in New York and I am 29 years old.\",\n",
        "    \"I'm Bob! My email: bob.smith@company.org, phone: 9876543210, location: London, age: 35.\",\n",
        "    \"Hello, this is Carol. Reach me at carol@domain.com, contact: 555-9876, from Mumbai, age 42.\"\n",
        "]\n",
        "\n",
        "masked_chats = [mask_sensitive(chat) for chat in sample_chats]\n",
        "\n",
        "sample_chats_structured = [\n",
        "    {\n",
        "        \"name\": \"Alice Johnson\",\n",
        "        \"email\": \"alice.johnson@example.com\",\n",
        "        \"phone\": \"+1-555-1234\",\n",
        "        \"location\": \"New York\",\n",
        "        \"age\": 29\n",
        "    },\n",
        "    {\n",
        "        \"name\": \"Bob\",\n",
        "        \"email\": \"bob.smith@company.org\",\n",
        "        \"phone\": \"9876543210\",\n",
        "        \"location\": \"London\",\n",
        "        \"age\": 35\n",
        "    },\n",
        "    {\n",
        "        \"name\": \"Carol\",\n",
        "        \"email\": \"carol@domain.com\",\n",
        "        \"phone\": \"555-9876\",\n",
        "        \"location\": \"Mumbai\",\n",
        "        \"age\": 42\n",
        "    }\n",
        "]\n",
        "\n",
        "print(masked_chats)\n",
        "print(sample_chats_structured)\n"
      ],
      "metadata": {
        "colab": {
          "base_uri": "https://localhost:8080/"
        },
        "id": "d_fTd1Sw5hXt",
        "outputId": "dbb1ce04-9239-410a-9a10-2380c4139f67"
      },
      "execution_count": 34,
      "outputs": [
        {
          "output_type": "stream",
          "name": "stdout",
          "text": [
            "['Hi, my name is [NAME]. You can email me at [EMAIL] or call me at [PHONE]. I live in [LOCATION] and I am 29 years old.', \"I'm Bob! My email: [EMAIL], phone: [PHONE], location: [LOCATION], age: 35.\", 'Hello, this is [NAME]. Reach me at [EMAIL], contact: [PHONE], from [LOCATION], age 42.']\n",
            "[{'name': 'Alice Johnson', 'email': 'alice.johnson@example.com', 'phone': '+1-555-1234', 'location': 'New York', 'age': 29}, {'name': 'Bob', 'email': 'bob.smith@company.org', 'phone': '9876543210', 'location': 'London', 'age': 35}, {'name': 'Carol', 'email': 'carol@domain.com', 'phone': '555-9876', 'location': 'Mumbai', 'age': 42}]\n"
          ]
        }
      ]
    },
    {
      "cell_type": "code",
      "source": [
        "import json\n",
        "\n",
        "def extract_details(chat_text):\n",
        "    try:\n",
        "        response = openai.ChatCompletion.create(\n",
        "            model=\"llama-3.1-8b-instant\",\n",
        "            messages=[\n",
        "                {\"role\": \"system\", \"content\": \"Extract user details from the following chat.\"},\n",
        "                {\"role\": \"user\", \"content\": chat_text}\n",
        "            ],\n",
        "            functions=[extraction_schema],\n",
        "            function_call={\"name\": \"extract_user_details\"}\n",
        "        )\n",
        "        args = response.choices[0].message.function_call.arguments\n",
        "        if isinstance(args, str):\n",
        "            return json.loads(args)\n",
        "        return args\n",
        "    except Exception as e:\n",
        "        print(f\"Error extracting details: {e}\")\n",
        "        return {}\n",
        "\n",
        "for i, chat in enumerate(sample_chats, 1):\n",
        "    print(f\"\\n--- Sample Chat {i} ---\")\n",
        "    print(chat)\n",
        "    details = extract_details(chat)\n",
        "    print(\"\\nExtracted Details (JSON):\")\n",
        "    print(json.dumps(details, indent=2))\n",
        "    # Validate required keys\n",
        "    required_keys = [\"name\", \"email\", \"phone\", \"location\", \"age\"]\n",
        "    valid = all(k in details for k in required_keys)\n",
        "    print(f\"Schema validation: {'Passed' if valid else ' Failed'}\")\n"
      ],
      "metadata": {
        "colab": {
          "base_uri": "https://localhost:8080/"
        },
        "id": "nJn1vlGa5jfi",
        "outputId": "540be0b4-2ef9-4def-f8e2-1c2644dfa092"
      },
      "execution_count": 35,
      "outputs": [
        {
          "output_type": "stream",
          "name": "stdout",
          "text": [
            "\n",
            "--- Sample Chat 1 ---\n",
            "Hi, my name is Alice Johnson. You can email me at alice.johnson@example.com or call me at +1-555-1234. I live in New York and I am 29 years old.\n",
            "\n",
            "Extracted Details (JSON):\n",
            "{\n",
            "  \"age\": 29,\n",
            "  \"email\": \"alice.johnson@example.com\",\n",
            "  \"location\": \"New York\",\n",
            "  \"name\": \"Alice Johnson\",\n",
            "  \"phone\": \"+1-555-1234\"\n",
            "}\n",
            "Schema validation: Passed\n",
            "\n",
            "--- Sample Chat 2 ---\n",
            "I'm Bob! My email: bob.smith@company.org, phone: 9876543210, location: London, age: 35.\n",
            "\n",
            "Extracted Details (JSON):\n",
            "{\n",
            "  \"age\": 35,\n",
            "  \"email\": \"bob.smith@company.org\",\n",
            "  \"location\": \"London\",\n",
            "  \"name\": \"Bob\",\n",
            "  \"phone\": \"9876543210\"\n",
            "}\n",
            "Schema validation: Passed\n",
            "\n",
            "--- Sample Chat 3 ---\n",
            "Hello, this is Carol. Reach me at carol@domain.com, contact: 555-9876, from Mumbai, age 42.\n",
            "\n",
            "Extracted Details (JSON):\n",
            "{\n",
            "  \"age\": 42,\n",
            "  \"email\": \"carol@domain.com\",\n",
            "  \"location\": \"Mumbai\",\n",
            "  \"name\": \"Carol\",\n",
            "  \"phone\": \"555-9876\"\n",
            "}\n",
            "Schema validation: Passed\n"
          ]
        }
      ]
    }
  ]
}